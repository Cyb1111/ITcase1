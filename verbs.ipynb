{
 "cells": [
  {
   "cell_type": "code",
   "execution_count": 1,
   "metadata": {},
   "outputs": [],
   "source": [
    "import sqlite3\n",
    "connection = sqlite3.connect('verbs.db')\n",
    "cursor = connection.cursor()\n",
    "cursor.execute(''' create table if not exists verbs(\n",
    "    id int, \n",
    "    name text, \n",
    "    link text\n",
    ")\n",
    "''')\n",
    "verbs=['get out','come back','come in','get up','look back']\n",
    "link=['https://i.mycdn.me/i?r=AzEPZsRbOZEKgBhR0XGMT1Rk1k7BNwC255oRgcL4MpeI1qaKTM5SRkZCeTgDn6uOyic','https://www.crnobelo.com/images/stories/galleries/ljubovta-e-vo-sitnicite-samo-retko-koga-ja-zabelezuvame-foto/04.jpg','https://media.baamboozle.com/uploads/images/925295/1664365034_68880_url.jpeg','https://pln-pskov.ru/pictures/200204082341.jpg','https://www.b17.ru/foto/uploaded/upl_1669489733_800099_6fc3t.jpg']\n",
    "data=[]\n",
    "for i in range(len(verbs)):\n",
    "    data.append((i+1,verbs[i],link[i]))\n",
    "data\n",
    "for n in data:\n",
    "    if n not in cursor.execute('select * from verbs'):\n",
    "        cursor.execute('insert into verbs values (?,?,?)', n)\n",
    "        connection.commit()\n",
    "        #print(f'student {n} added')\n",
    "    else:\n",
    "        #print(f'student {n} already in the database')\n",
    "        pass"
   ]
  },
  {
   "cell_type": "code",
   "execution_count": 2,
   "metadata": {},
   "outputs": [
    {
     "name": "stdout",
     "output_type": "stream",
     "text": [
      "(1, 'get out', 'https://i.mycdn.me/i?r=AzEPZsRbOZEKgBhR0XGMT1Rk1k7BNwC255oRgcL4MpeI1qaKTM5SRkZCeTgDn6uOyic')\n",
      "(2, 'come back', 'https://www.crnobelo.com/images/stories/galleries/ljubovta-e-vo-sitnicite-samo-retko-koga-ja-zabelezuvame-foto/04.jpg')\n",
      "(3, 'come in', 'https://media.baamboozle.com/uploads/images/925295/1664365034_68880_url.jpeg')\n",
      "(4, 'get up', 'https://pln-pskov.ru/pictures/200204082341.jpg')\n",
      "(5, 'look back', 'https://www.b17.ru/foto/uploaded/upl_1669489733_800099_6fc3t.jpg')\n"
     ]
    }
   ],
   "source": [
    "a=list(cursor.execute('select * from verbs'))\n",
    "for i in a:\n",
    "    print(i)"
   ]
  },
  {
   "cell_type": "code",
   "execution_count": 3,
   "metadata": {},
   "outputs": [
    {
     "data": {
      "text/plain": [
       "'https://pln-pskov.ru/pictures/200204082341.jpg'"
      ]
     },
     "execution_count": 3,
     "metadata": {},
     "output_type": "execute_result"
    }
   ],
   "source": [
    "def trigger(verb):\n",
    "    global cursor\n",
    "    return list(cursor.execute(f'select link from verbs where name = \"{verb}\"'))[0][0]\n",
    "verb=input()\n",
    "trigger(verb)"
   ]
  }
 ],
 "metadata": {
  "kernelspec": {
   "display_name": "Python 3",
   "language": "python",
   "name": "python3"
  },
  "language_info": {
   "codemirror_mode": {
    "name": "ipython",
    "version": 3
   },
   "file_extension": ".py",
   "mimetype": "text/x-python",
   "name": "python",
   "nbconvert_exporter": "python",
   "pygments_lexer": "ipython3",
   "version": "3.11.1"
  },
  "orig_nbformat": 4,
  "vscode": {
   "interpreter": {
    "hash": "9acaf71ee087f2efd9f5520087b2ca1eb62360fc2a27f7ff27288e58554c42ce"
   }
  }
 },
 "nbformat": 4,
 "nbformat_minor": 2
}
